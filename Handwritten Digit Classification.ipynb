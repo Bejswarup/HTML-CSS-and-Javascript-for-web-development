{
 "cells": [
  {
   "cell_type": "code",
   "execution_count": 1,
   "id": "4e674e31",
   "metadata": {},
   "outputs": [],
   "source": [
    "# Importing relevent modules\n",
    "import numpy as np\n",
    "import tensorflow as tf\n",
    "from tensorflow.keras.models import Sequential\n",
    "from tensorflow.keras.layers import Dense\n",
    "from keras.layers import Conv2D, MaxPooling2D\n",
    "from keras.layers import Flatten\n",
    "from keras.layers import Dropout\n",
    "import numpy as np\n",
    "import matplotlib.pyplot as plt\n",
    "from autils import *\n",
    "%matplotlib inline\n",
    "import logging\n",
    "logging.getLogger(\"tensorflow\").setLevel(logging.ERROR)\n",
    "tf.autograph.set_verbosity(0)"
   ]
  },
  {
   "cell_type": "code",
   "execution_count": 4,
   "id": "1a51b191",
   "metadata": {},
   "outputs": [],
   "source": [
    "# loading the dataset\n",
    "mnist = tf.keras.datasets.mnist\n",
    "(X_train,y_train),(X_test,y_test) = mnist.load_data()"
   ]
  },
  {
   "cell_type": "code",
   "execution_count": 5,
   "id": "7f027384",
   "metadata": {},
   "outputs": [
    {
     "data": {
      "image/png": "[encoded data removed]",
      "text/plain": [
       "<Figure size 432x288 with 1 Axes>"
      ]
     },
     "metadata": {
      "needs_background": "light"
     },
     "output_type": "display_data"
    }
   ],
   "source": [
    "# printing one train image\n",
    "plt.imshow(X_train[2])\n",
    "plt.show()"
   ]
  },
  {
   "cell_type": "code",
   "execution_count": 6,
   "id": "970612cd",
   "metadata": {},
   "outputs": [
    {
     "name": "stdout",
     "output_type": "stream",
     "text": [
      "4\n"
     ]
    }
   ],
   "source": [
    "# now see the label of the above image\n",
    "print(y_train[2])"
   ]
  },
  {
   "cell_type": "code",
   "execution_count": 7,
   "id": "f09c8256",
   "metadata": {},
   "outputs": [
    {
     "name": "stdout",
     "output_type": "stream",
     "text": [
      "The shape of X is: (60000, 28, 28)\n",
      "The shape of y is: (60000,)\n"
     ]
    }
   ],
   "source": [
    "print ('The shape of X is: ' + str(X_train.shape))\n",
    "print ('The shape of y is: ' + str(y_train.shape))"
   ]
  },
  {
   "cell_type": "markdown",
   "id": "da40f64e",
   "metadata": {},
   "source": [
    "Now we need to reshape our data set inorder to apply for ANN model.\n",
    "\n",
    "As the ANN model receive data data in vector form so the data is converted into vector form."
   ]
  },
  {
   "cell_type": "code",
   "execution_count": 8,
   "id": "4192a932",
   "metadata": {},
   "outputs": [
    {
     "data": {
      "text/plain": [
       "(60000, 784)"
      ]
     },
     "execution_count": 8,
     "metadata": {},
     "output_type": "execute_result"
    }
   ],
   "source": [
    "# converting the 28 by 28 image matrix into a single vector of 784 entries\n",
    "feature_vector_length = 784\n",
    "X_train = X_train.reshape(X_train.shape[0], feature_vector_length)\n",
    "X_test = X_test.reshape(X_test.shape[0], feature_vector_length)\n",
    "input_shape = (feature_vector_length,)\n",
    "X_train.shape"
   ]
  },
  {
   "cell_type": "markdown",
   "id": "9fa0fba9",
   "metadata": {},
   "source": [
    "Now we can build the model. The model type that we will be using is Sequential.\n",
    "\n",
    "Sequential is the easiest way to build a model in Keras. \n",
    "\n",
    "It allows you to build a model layer by layer.We use the ‘add()’ function that adds layers to our neural network.\n",
    "\n",
    "Dense specifies fully connected layers.Activation Function is used for introducing non-linearity"
   ]
  },
  {
   "cell_type": "code",
   "execution_count": 10,
   "id": "720f1bd9",
   "metadata": {},
   "outputs": [],
   "source": [
    "model = Sequential()\n",
    "model.add(Dense(350, input_shape=input_shape, activation='relu'))\n",
    "model.add(Dense(50, activation='relu'))\n",
    "model.add(Dense(10, activation='softmax'))"
   ]
  },
  {
   "cell_type": "markdown",
   "id": "4cfa9ca6",
   "metadata": {},
   "source": [
    "Now we need to specify the loss function and the optimizer, that is done by compile function available in keras.\n",
    "\n",
    "Here loss is cross entropy. Categorical cross-entropy states that we have multiple classes.\n",
    "\n",
    "The optimizer used is Adam. Metrics is used to specify how we want to judge our models performance."
   ]
  },
  {
   "cell_type": "code",
   "execution_count": 11,
   "id": "daf7fa9f",
   "metadata": {},
   "outputs": [],
   "source": [
    "model.compile(optimizer='adam',\n",
    "             loss='sparse_categorical_crossentropy',\n",
    "              metrics=['accuracy'])"
   ]
  },
  {
   "cell_type": "markdown",
   "id": "ae1332cd",
   "metadata": {},
   "source": [
    "Now training the model.\n",
    "\n",
    "model.fit function is used to train the model."
   ]
  },
  {
   "cell_type": "code",
   "execution_count": 12,
   "id": "28fdcb30",
   "metadata": {},
   "outputs": [
    {
     "name": "stdout",
     "output_type": "stream",
     "text": [
      "Epoch 1/10\n",
      "1875/1875 [==============================] - 8s 3ms/step - loss: 0.9978 - accuracy: 0.7760\n",
      "Epoch 2/10\n",
      "1875/1875 [==============================] - 7s 4ms/step - loss: 0.3268 - accuracy: 0.9202\n",
      "Epoch 3/10\n",
      "1875/1875 [==============================] - 8s 4ms/step - loss: 0.2066 - accuracy: 0.9484\n",
      "Epoch 4/10\n",
      "1875/1875 [==============================] - 7s 4ms/step - loss: 0.1634 - accuracy: 0.9596\n",
      "Epoch 5/10\n",
      "1875/1875 [==============================] - 8s 4ms/step - loss: 0.1335 - accuracy: 0.9662\n",
      "Epoch 6/10\n",
      "1875/1875 [==============================] - 7s 4ms/step - loss: 0.1126 - accuracy: 0.9709\n",
      "Epoch 7/10\n",
      "1875/1875 [==============================] - 9s 5ms/step - loss: 0.1107 - accuracy: 0.9727\n",
      "Epoch 8/10\n",
      "1875/1875 [==============================] - 7s 4ms/step - loss: 0.0947 - accuracy: 0.9773\n",
      "Epoch 9/10\n",
      "1875/1875 [==============================] - 8s 4ms/step - loss: 0.0857 - accuracy: 0.9787\n",
      "Epoch 10/10\n",
      "1875/1875 [==============================] - 7s 4ms/step - loss: 0.0827 - accuracy: 0.9801\n"
     ]
    },
    {
     "data": {
      "text/plain": [
       "<keras.callbacks.History at 0x1ea22ccd3a0>"
      ]
     },
     "execution_count": 12,
     "metadata": {},
     "output_type": "execute_result"
    }
   ],
   "source": [
    "model.fit(X_train, y_train, epochs=10)"
   ]
  },
  {
   "cell_type": "markdown",
   "id": "674294cd",
   "metadata": {},
   "source": [
    "Now lets see for CNN model. \n",
    "\n",
    "All the preprocessing taks will be sames as ANN, but difference is that CNN receive data in image form(2-D) form.\n",
    "\n",
    "so data is reshaped into 2-D form"
   ]
  },
  {
   "cell_type": "code",
   "execution_count": 13,
   "id": "99a4d35b",
   "metadata": {},
   "outputs": [
    {
     "data": {
      "text/plain": [
       "(60000, 28, 28, 1)"
      ]
     },
     "execution_count": 13,
     "metadata": {},
     "output_type": "execute_result"
    }
   ],
   "source": [
    "img_width, img_height = 28, 28\n",
    "X_train = X_train.reshape(X_train.shape[0],  img_width, img_height,1)\n",
    "X_test = X_test.reshape(X_test.shape[0], img_width, img_height,1)\n",
    "input_shape = ( img_width, img_height,1,)\n",
    "X_train.shape"
   ]
  },
  {
   "cell_type": "code",
   "execution_count": 14,
   "id": "2850bc8e",
   "metadata": {},
   "outputs": [],
   "source": [
    "model = Sequential()\n",
    "model.add(Conv2D(32, kernel_size=(3, 3), activation='relu', input_shape=input_shape))\n",
    "model.add(MaxPooling2D(pool_size=(2, 2)))\n",
    "model.add(Dropout(0.25))\n",
    "model.add(Conv2D(64, kernel_size=(3, 3), activation='relu'))\n",
    "model.add(MaxPooling2D(pool_size=(2, 2)))\n",
    "model.add(Dropout(0.25))\n",
    "model.add(Flatten())\n",
    "model.add(Dense(256, activation='relu'))\n",
    "model.add(Dense(10, activation='softmax'))"
   ]
  },
  {
   "cell_type": "code",
   "execution_count": 15,
   "id": "9e535ae3",
   "metadata": {},
   "outputs": [
    {
     "name": "stdout",
     "output_type": "stream",
     "text": [
      "Epoch 1/10\n",
      "1875/1875 [==============================] - 55s 29ms/step - loss: 0.6288 - accuracy: 0.9189\n",
      "Epoch 2/10\n",
      "1875/1875 [==============================] - 61s 32ms/step - loss: 0.0956 - accuracy: 0.9708\n",
      "Epoch 3/10\n",
      "1875/1875 [==============================] - 57s 30ms/step - loss: 0.0771 - accuracy: 0.9768\n",
      "Epoch 4/10\n",
      "1875/1875 [==============================] - 58s 31ms/step - loss: 0.0661 - accuracy: 0.9802\n",
      "Epoch 5/10\n",
      "1875/1875 [==============================] - 57s 30ms/step - loss: 0.0581 - accuracy: 0.9824\n",
      "Epoch 6/10\n",
      "1875/1875 [==============================] - 58s 31ms/step - loss: 0.0548 - accuracy: 0.9843\n",
      "Epoch 7/10\n",
      "1875/1875 [==============================] - 57s 30ms/step - loss: 0.0508 - accuracy: 0.9847\n",
      "Epoch 8/10\n",
      "1875/1875 [==============================] - 58s 31ms/step - loss: 0.0497 - accuracy: 0.9858\n",
      "Epoch 9/10\n",
      "1875/1875 [==============================] - 56s 30ms/step - loss: 0.0474 - accuracy: 0.9865\n",
      "Epoch 10/10\n",
      "1875/1875 [==============================] - 58s 31ms/step - loss: 0.0445 - accuracy: 0.9875\n"
     ]
    },
    {
     "data": {
      "text/plain": [
       "<keras.callbacks.History at 0x1ea2450ddc0>"
      ]
     },
     "execution_count": 15,
     "metadata": {},
     "output_type": "execute_result"
    }
   ],
   "source": [
    "model.compile(optimizer='adam',\n",
    "              loss='sparse_categorical_crossentropy',\n",
    "              metrics=['accuracy'])\n",
    "model.fit(X_train, y_train, epochs=10)"
   ]
  },
  {
   "cell_type": "code",
   "execution_count": null,
   "id": "249d5285",
   "metadata": {},
   "outputs": [],
   "source": []
  }
 ],
 "metadata": {
  "kernelspec": {
   "display_name": "Python 3 (ipykernel)",
   "language": "python",
   "name": "python3"
  },
  "language_info": {
   "codemirror_mode": {
    "name": "ipython",
    "version": 3
   },
   "file_extension": ".py",
   "mimetype": "text/x-python",
   "name": "python",
   "nbconvert_exporter": "python",
   "pygments_lexer": "ipython3",
   "version": "3.9.12"
  }
 },
 "nbformat": 4,
 "nbformat_minor": 5
}
